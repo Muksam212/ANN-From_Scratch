{
 "cells": [
  {
   "cell_type": "markdown",
   "id": "74bf2f4f",
   "metadata": {},
   "source": [
    "\"Create a basic neuron with 3 input\""
   ]
  },
  {
   "cell_type": "code",
   "execution_count": 9,
   "id": "9cc0dee0",
   "metadata": {},
   "outputs": [],
   "source": [
    "inputs = [1.2, 5.3, 2.4]"
   ]
  },
  {
   "cell_type": "code",
   "execution_count": 10,
   "id": "1c25a7c1",
   "metadata": {},
   "outputs": [
    {
     "data": {
      "text/plain": [
       "[1.2, 5.3, 2.4]"
      ]
     },
     "execution_count": 10,
     "metadata": {},
     "output_type": "execute_result"
    }
   ],
   "source": [
    "inputs"
   ]
  },
  {
   "cell_type": "code",
   "execution_count": 11,
   "id": "8ddbfbe3",
   "metadata": {},
   "outputs": [],
   "source": [
    "weights = [3.1, 2.1, 8.7]"
   ]
  },
  {
   "cell_type": "code",
   "execution_count": 12,
   "id": "e8f3d002",
   "metadata": {},
   "outputs": [
    {
     "data": {
      "text/plain": [
       "[3.1, 2.1, 8.7]"
      ]
     },
     "execution_count": 12,
     "metadata": {},
     "output_type": "execute_result"
    }
   ],
   "source": [
    "weights"
   ]
  },
  {
   "cell_type": "code",
   "execution_count": 13,
   "id": "793ffcd0",
   "metadata": {},
   "outputs": [],
   "source": [
    "bias = 3.0"
   ]
  },
  {
   "cell_type": "code",
   "execution_count": 14,
   "id": "f0ef6377",
   "metadata": {},
   "outputs": [],
   "source": [
    "output = inputs[0]*weights[0]+inputs[1]*weights[1]+inputs[2]*weights[2]+ bias"
   ]
  },
  {
   "cell_type": "code",
   "execution_count": 15,
   "id": "7f5b65a7",
   "metadata": {},
   "outputs": [
    {
     "data": {
      "text/plain": [
       "38.730000000000004"
      ]
     },
     "execution_count": 15,
     "metadata": {},
     "output_type": "execute_result"
    }
   ],
   "source": [
    "output"
   ]
  },
  {
   "cell_type": "code",
   "execution_count": null,
   "id": "9820d8ee",
   "metadata": {},
   "outputs": [],
   "source": []
  },
  {
   "cell_type": "code",
   "execution_count": 16,
   "id": "34457190",
   "metadata": {},
   "outputs": [
    {
     "data": {
      "text/plain": [
       "'create a simple layer of 3 neuron with 4 inputs'"
      ]
     },
     "execution_count": 16,
     "metadata": {},
     "output_type": "execute_result"
    }
   ],
   "source": [
    "'''create a simple layer of 3 neuron with 4 inputs'''"
   ]
  },
  {
   "cell_type": "code",
   "execution_count": 17,
   "id": "e78336ed",
   "metadata": {},
   "outputs": [],
   "source": [
    "inputs = [1.0, 2.0, 3.0, 2.5]"
   ]
  },
  {
   "cell_type": "code",
   "execution_count": 18,
   "id": "1b1d4d21",
   "metadata": {},
   "outputs": [],
   "source": [
    "weight1 = [0.2, 0.8, -0.5, 1.0]\n",
    "weight2 = [0.5, -0.91, 0.26, -0.5]\n",
    "weight3 = [-0.26, -0.27, 0.17, 0.87]"
   ]
  },
  {
   "cell_type": "code",
   "execution_count": 19,
   "id": "11813d87",
   "metadata": {},
   "outputs": [],
   "source": [
    "bias1 = 2.1\n",
    "bias2 = 3.1\n",
    "bias3 = 0.6"
   ]
  },
  {
   "cell_type": "code",
   "execution_count": 20,
   "id": "4d10ea95",
   "metadata": {},
   "outputs": [],
   "source": [
    "output = [\n",
    "    inputs[0]*weight1[0]+inputs[1]*weight1[1]+inputs[2]*weight1[2]+inputs[3]*weight1[3]+bias1,\n",
    "    inputs[0]*weight2[0]+inputs[1]*weight2[1]+inputs[2]*weight2[2]+inputs[3]*weight2[3]+bias2,\n",
    "    inputs[0]*weight3[0]+inputs[1]*weight3[1]+inputs[2]*weight3[2]+inputs[3]*weight3[3]+bias3,\n",
    "]"
   ]
  },
  {
   "cell_type": "code",
   "execution_count": 21,
   "id": "6f80254d",
   "metadata": {},
   "outputs": [
    {
     "name": "stdout",
     "output_type": "stream",
     "text": [
      "[4.9, 1.31, 2.485]\n"
     ]
    }
   ],
   "source": [
    "print(output)"
   ]
  },
  {
   "cell_type": "code",
   "execution_count": null,
   "id": "463855e4",
   "metadata": {},
   "outputs": [],
   "source": []
  },
  {
   "cell_type": "code",
   "execution_count": 22,
   "id": "6af6db01",
   "metadata": {},
   "outputs": [],
   "source": [
    "import numpy as np"
   ]
  },
  {
   "cell_type": "code",
   "execution_count": 23,
   "id": "2c5d6ce9",
   "metadata": {},
   "outputs": [],
   "source": [
    "inputs = [1.0, 2.0, 3.0, 2.5]"
   ]
  },
  {
   "cell_type": "code",
   "execution_count": 24,
   "id": "4330dc63",
   "metadata": {},
   "outputs": [],
   "source": [
    "weightss =[[0.2, 0.8, -0.5, 1.0],\n",
    "          [0.5, -0.91, 0.26, -0.5],\n",
    "          [-0.26, -0.27, 0.17, 0.87]\n",
    "         ]"
   ]
  },
  {
   "cell_type": "code",
   "execution_count": 25,
   "id": "49e3a736",
   "metadata": {},
   "outputs": [
    {
     "data": {
      "text/plain": [
       "[[0.2, 0.8, -0.5, 1.0], [0.5, -0.91, 0.26, -0.5], [-0.26, -0.27, 0.17, 0.87]]"
      ]
     },
     "execution_count": 25,
     "metadata": {},
     "output_type": "execute_result"
    }
   ],
   "source": [
    "weightss"
   ]
  },
  {
   "cell_type": "code",
   "execution_count": 26,
   "id": "08b8008d",
   "metadata": {},
   "outputs": [],
   "source": [
    "biases = [2.0, 3.0, 0.5]"
   ]
  },
  {
   "cell_type": "code",
   "execution_count": 27,
   "id": "84fbc204",
   "metadata": {},
   "outputs": [],
   "source": [
    "output = np.dot(weightss, inputs) + biases"
   ]
  },
  {
   "cell_type": "code",
   "execution_count": 28,
   "id": "1f2cfb96",
   "metadata": {},
   "outputs": [
    {
     "name": "stdout",
     "output_type": "stream",
     "text": [
      "[4.8   1.21  2.385]\n"
     ]
    }
   ],
   "source": [
    "print(output)"
   ]
  },
  {
   "cell_type": "code",
   "execution_count": null,
   "id": "228b19f9",
   "metadata": {},
   "outputs": [],
   "source": []
  },
  {
   "cell_type": "code",
   "execution_count": 29,
   "id": "f03456ce",
   "metadata": {},
   "outputs": [
    {
     "data": {
      "text/plain": [
       "'create an layer of neurons using OOP'"
      ]
     },
     "execution_count": 29,
     "metadata": {},
     "output_type": "execute_result"
    }
   ],
   "source": [
    "'''create an layer of neurons using OOP'''"
   ]
  },
  {
   "cell_type": "code",
   "execution_count": 30,
   "id": "1ebf903f",
   "metadata": {},
   "outputs": [],
   "source": [
    "np.random.seed(0)"
   ]
  },
  {
   "cell_type": "code",
   "execution_count": 31,
   "id": "46d3d7c4",
   "metadata": {},
   "outputs": [],
   "source": [
    "X = [[1,2,3,2.5],\n",
    "     [2.0, 5.0, -1.0, 2.0],\n",
    "     [-1.5, 2.7, 3.3, -0.8]]"
   ]
  },
  {
   "cell_type": "code",
   "execution_count": 32,
   "id": "1038d3e3",
   "metadata": {},
   "outputs": [
    {
     "data": {
      "text/plain": [
       "[[1, 2, 3, 2.5], [2.0, 5.0, -1.0, 2.0], [-1.5, 2.7, 3.3, -0.8]]"
      ]
     },
     "execution_count": 32,
     "metadata": {},
     "output_type": "execute_result"
    }
   ],
   "source": [
    "X"
   ]
  },
  {
   "cell_type": "code",
   "execution_count": 34,
   "id": "0b1e6a47",
   "metadata": {},
   "outputs": [],
   "source": [
    "class Layer_Dense:\n",
    "    def __init__(self, n_inputs, n_neurons):\n",
    "        self.weights = 0.12 * np.random.randn(n_inputs, n_neurons)\n",
    "        self.biases = np.zeros((1, n_neurons))\n",
    "        \n",
    "    def forward_prop(self, inputs):\n",
    "        self.output = np.dot(inputs, self.weights) + self.biases\n",
    "        \n"
   ]
  },
  {
   "cell_type": "code",
   "execution_count": 35,
   "id": "64892747",
   "metadata": {},
   "outputs": [
    {
     "name": "stdout",
     "output_type": "stream",
     "text": [
      "[[ 0.12909757  1.24780227  0.29354893  0.38185798  0.22621264]\n",
      " [-0.10019755  0.85015694  0.00352028  0.5364183   0.43632645]\n",
      " [-0.60915894  0.66826107  0.09585356 -0.41867488  0.05463651]]\n"
     ]
    }
   ],
   "source": [
    "layer_1 = Layer_Dense(4, 5)\n",
    "layer_1.forward_prop(X)\n",
    "print(layer_1.output)"
   ]
  },
  {
   "cell_type": "code",
   "execution_count": 37,
   "id": "3bcfa42e",
   "metadata": {},
   "outputs": [],
   "source": [
    "layer_2 = Layer_Dense(5, 2)\n",
    "layer_2.forward_prop(layer_1.output)"
   ]
  },
  {
   "cell_type": "code",
   "execution_count": 38,
   "id": "4210ed3d",
   "metadata": {},
   "outputs": [
    {
     "name": "stdout",
     "output_type": "stream",
     "text": [
      "[[-0.09692747 -0.23834073]\n",
      " [-0.03366694 -0.14499031]\n",
      " [-0.15087154 -0.2470784 ]]\n"
     ]
    }
   ],
   "source": [
    "print(layer_2.output)"
   ]
  },
  {
   "cell_type": "code",
   "execution_count": null,
   "id": "07501cb7",
   "metadata": {},
   "outputs": [],
   "source": []
  }
 ],
 "metadata": {
  "kernelspec": {
   "display_name": "Python 3 (ipykernel)",
   "language": "python",
   "name": "python3"
  },
  "language_info": {
   "codemirror_mode": {
    "name": "ipython",
    "version": 3
   },
   "file_extension": ".py",
   "mimetype": "text/x-python",
   "name": "python",
   "nbconvert_exporter": "python",
   "pygments_lexer": "ipython3",
   "version": "3.9.5"
  }
 },
 "nbformat": 4,
 "nbformat_minor": 5
}
